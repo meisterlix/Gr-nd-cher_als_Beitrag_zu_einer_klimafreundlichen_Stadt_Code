{
 "cells": [
  {
   "cell_type": "code",
   "execution_count": null,
   "metadata": {
    "colab": {
     "base_uri": "https://localhost:8080/"
    },
    "executionInfo": {
     "elapsed": 735,
     "status": "ok",
     "timestamp": 1661879232180,
     "user": {
      "displayName": "Felix Krukenberg",
      "userId": "10245124757195406851"
     },
     "user_tz": -120
    },
    "id": "OuC3bA3G2_QU",
    "outputId": "43e2194f-48f0-4e7b-e179-49c793e0a09f"
   },
   "outputs": [],
   "source": [
    "!python --version"
   ]
  },
  {
   "cell_type": "markdown",
   "metadata": {
    "id": "vM54r6jlKTII"
   },
   "source": [
    "# Install detectron2"
   ]
  },
  {
   "cell_type": "code",
   "execution_count": null,
   "metadata": {
    "colab": {
     "base_uri": "https://localhost:8080/",
     "height": 1000
    },
    "executionInfo": {
     "elapsed": 250113,
     "status": "ok",
     "timestamp": 1662197720255,
     "user": {
      "displayName": "Felix Krukenberg",
      "userId": "10245124757195406851"
     },
     "user_tz": -120
    },
    "id": "FsePPpwZSmqt",
    "outputId": "3e626e71-2e28-4ff9-a276-ed24d7ec3633",
    "scrolled": true
   },
   "outputs": [],
   "source": [
    "!pip install pyyaml==5.1\n",
    "# test\n",
    "!pip uninstall torch -y\n",
    "!pip uninstall torchvision -y\n",
    "!pip install torch==1.10.1+cu111 torchvision==0.11.2+cu111 -f https://download.pytorch.org/whl/torch_stable.html\n",
    "#testend\n",
    "\n",
    "import torch\n",
    "TORCH_VERSION = \".\".join(torch.__version__.split(\".\")[:2])\n",
    "CUDA_VERSION = torch.__version__.split(\"+\")[-1]\n",
    "print(\"torch: \", TORCH_VERSION, \"; cuda: \", CUDA_VERSION)\n",
    "# Install detectron2 that matches the above pytorch version\n",
    "# See https://detectron2.readthedocs.io/tutorials/install.html for instructions\n",
    "!pip install detectron2 -f https://dl.fbaipublicfiles.com/detectron2/wheels/$CUDA_VERSION/torch$TORCH_VERSION/index.html\n",
    "# If there is not yet a detectron2 release that matches the given torch + CUDA version, you need to install a different pytorch.\n",
    "\n",
    "# exit(0)  # After installation, you may need to \"restart runtime\" in Colab. This line can also restart runtime"
   ]
  },
  {
   "cell_type": "code",
   "execution_count": null,
   "metadata": {
    "colab": {
     "base_uri": "https://localhost:8080/",
     "height": 1000
    },
    "executionInfo": {
     "elapsed": 15164,
     "status": "ok",
     "timestamp": 1662042946381,
     "user": {
      "displayName": "Felix Krukenberg",
      "userId": "10245124757195406851"
     },
     "user_tz": -120
    },
    "id": "hODYgCxxD1Hd",
    "outputId": "d8756a64-5e9f-431b-9a3e-9129560c91ce"
   },
   "outputs": [],
   "source": [
    "import torch\n",
    "TORCH_VERSION = \".\".join(torch.__version__.split(\".\")[:2])\n",
    "CUDA_VERSION = torch.__version__.split(\"+\")[-1]\n",
    "print(\"torch: \", TORCH_VERSION, \"; cuda: \", CUDA_VERSION)\n",
    "# Install detectron2 that matches the above pytorch version\n",
    "# See https://detectron2.readthedocs.io/tutorials/install.html for instructions\n",
    "!pip install detectron2 -f https://dl.fbaipublicfiles.com/detectron2/wheels/$CUDA_VERSION/torch$TORCH_VERSION/index.html\n",
    "# If there is not yet a detectron2 release that matches the given torch + CUDA version, you need to install a different pytorch.\n",
    "\n",
    "# exit(0)  # After installation, you may need to \"restart runtime\" in Colab. This line can also restart runtime"
   ]
  },
  {
   "cell_type": "code",
   "execution_count": null,
   "metadata": {
    "id": "ZyAvNCJMmvFF"
   },
   "outputs": [],
   "source": [
    "# Some basic setup:\n",
    "# Setup detectron2 logger\n",
    "import detectron2\n",
    "from detectron2.utils.logger import setup_logger\n",
    "setup_logger()\n",
    "\n",
    "# import some common libraries\n",
    "import numpy as np\n",
    "import os, json, cv2, random\n",
    "from google.colab.patches import cv2_imshow\n",
    "\n",
    "# import some common detectron2 utilities\n",
    "from detectron2 import model_zoo\n",
    "from detectron2.engine import DefaultPredictor\n",
    "from detectron2.config import get_cfg\n",
    "from detectron2.utils.visualizer import Visualizer\n",
    "from detectron2.data import MetadataCatalog, DatasetCatalog"
   ]
  },
  {
   "cell_type": "code",
   "execution_count": null,
   "metadata": {
    "colab": {
     "base_uri": "https://localhost:8080/"
    },
    "executionInfo": {
     "elapsed": 5230,
     "status": "ok",
     "timestamp": 1662214862018,
     "user": {
      "displayName": "Felix Krukenberg",
      "userId": "10245124757195406851"
     },
     "user_tz": -120
    },
    "id": "AOflnSn1rujI",
    "outputId": "801fdd68-76a4-47a6-b247-330e90113470"
   },
   "outputs": [],
   "source": [
    "from google.colab import drive\n",
    "drive.mount('/content/drive', force_remount=True)\n",
    "\n",
    "import os\n",
    "os.getcwd()\n",
    "!mkdir workDir\n",
    "!mount --bind /content/drive/MyDrive/Uni/Masterarbeit/ML/ /content/workDir"
   ]
  },
  {
   "cell_type": "code",
   "execution_count": null,
   "metadata": {
    "id": "PIbAM2pv-urF"
   },
   "outputs": [],
   "source": [
    "from detectron2.data.datasets import register_coco_instances \n",
    "DatasetCatalog.clear()\n",
    "register_coco_instances(\"my_dataset_train\", {}, \"/content/workDir/train_img_small_complete/annotations/instances_default.json\", \"/content/workDir/train_img_small_complete/images\")\n",
    "register_coco_instances(\"my_dataset_val\", {}, \"/content/workDir/cvat_annotations_tiles/val_small_img/annotations/instances_default.json\", \"/content/workDir/ccvat_annotations_tiles/val_small_img/images\")\n",
    "register_coco_instances(\"my_dataset_test\", {}, \"/content/workDir/cvat_annotations_tiles/test_small_img/annotations/instances_default.json\", \"/content/workDir/cvat_annotations_tiles/test_small_img/images\")\n",
    "\n"
   ]
  },
  {
   "cell_type": "code",
   "execution_count": null,
   "metadata": {
    "colab": {
     "base_uri": "https://localhost:8080/",
     "height": 1000
    },
    "executionInfo": {
     "elapsed": 4723,
     "status": "ok",
     "timestamp": 1662201541232,
     "user": {
      "displayName": "Felix Krukenberg",
      "userId": "10245124757195406851"
     },
     "user_tz": -120
    },
    "id": "UkNbUzUOLYf0",
    "outputId": "77b1c7db-a307-4051-8d01-16727ba4d32d"
   },
   "outputs": [],
   "source": [
    "# did not work correctly. the problem seems to lie with cv_imshow()\n",
    "\n",
    "from detectron2.data import get_detection_dataset_dicts\n",
    "dataset_dicts = get_detection_dataset_dicts(\"my_dataset_train\")\n",
    "for d in random.sample(dataset_dicts, 5):\n",
    "    img = cv2.imread(d['file_name'])\n",
    "    print(d[\"file_name\"])\n",
    "    visualizer = Visualizer(img[:, :, ::-1], scale=0.7)\n",
    "    out = visualizer.draw_dataset_dict(d)\n",
    "    cv2_imshow(out.get_image()[:, :, ::-1])"
   ]
  },
  {
   "cell_type": "code",
   "execution_count": null,
   "metadata": {
    "colab": {
     "base_uri": "https://localhost:8080/",
     "height": 1000
    },
    "executionInfo": {
     "elapsed": 3947,
     "status": "ok",
     "timestamp": 1662201549265,
     "user": {
      "displayName": "Felix Krukenberg",
      "userId": "10245124757195406851"
     },
     "user_tz": -120
    },
    "id": "WVJMCol8uy3U",
    "outputId": "0bdcdcd6-491f-43fa-a0ed-4110cc73fc4d"
   },
   "outputs": [],
   "source": [
    "\n",
    "building_metadata = MetadataCatalog.get(\"my_dataset_train\")\n",
    "\n",
    "for i, d in enumerate(random.sample(dataset_dicts, 5)):\n",
    "    # read the image with cv2\n",
    "\n",
    "    img = cv2.imread(d[\"file_name\"])\n",
    "    visualizer = Visualizer(img[:, :, ::-1], metadata=building_metadata, scale=0.5)\n",
    "    vis = visualizer.draw_dataset_dict(d)\n",
    "    cv2_imshow(vis.get_image()[:, :, ::-1])"
   ]
  },
  {
   "cell_type": "code",
   "execution_count": null,
   "metadata": {
    "colab": {
     "base_uri": "https://localhost:8080/",
     "height": 1000
    },
    "executionInfo": {
     "elapsed": 4304,
     "status": "error",
     "timestamp": 1662201564470,
     "user": {
      "displayName": "Felix Krukenberg",
      "userId": "10245124757195406851"
     },
     "user_tz": -120
    },
    "id": "7unkuuiqLdqd",
    "outputId": "670f9975-c219-4bc7-c504-92a2f20389d3"
   },
   "outputs": [],
   "source": [
    "# the actual training\n",
    "from detectron2.engine import DefaultTrainer\n",
    "\n",
    "cfg = get_cfg()\n",
    "cfg.merge_from_file(model_zoo.get_config_file(\"COCO-InstanceSegmentation/mask_rcnn_R_50_FPN_3x.yaml\"))\n",
    "cfg.DATASETS.TRAIN = (\"my_dataset_train\", )\n",
    "cfg.DATASETS.TEST = () \n",
    "cfg.DATALOADER.NUM_WORKERS = 2\n",
    "cfg.MODEL.WEIGHTS = model_zoo.get_checkpoint_url(\"COCO-InstanceSegmentation/mask_rcnn_R_50_FPN_3x.yaml\")  # Let training initialize from model zoo\n",
    "cfg.SOLVER.IMS_PER_BATCH = 2 \n",
    "cfg.SOLVER.BASE_LR = 0.0025  # pick a good LR OG: 0.00025\n",
    "cfg.SOLVER.MAX_ITER = 5000    \n",
    "cfg.SOLVER.STEPS = [0.000001] \n",
    "cfg.MODEL.ROI_HEADS.BATCH_SIZE_PER_IMAGE = 1024   # faster, and good enough for this toy dataset (default: 512)\n",
    "cfg.MODEL.ROI_HEADS.NUM_CLASSES = 1  # \"greenroof\" is the only class\n",
    "# NOTE: this config means the number of classes, but a few popular unofficial tutorials incorrect uses num_classes+1 here.\n",
    "\n",
    "os.makedirs(cfg.OUTPUT_DIR, exist_ok=True)\n",
    "trainer = DefaultTrainer(cfg) \n",
    "trainer.resume_or_load(resume=False)\n",
    "trainer.train()"
   ]
  },
  {
   "cell_type": "markdown",
   "metadata": {
    "id": "0e4vdDIOXyxF"
   },
   "source": [
    "## Inference & evaluation using the trained model\n",
    "\n"
   ]
  },
  {
   "cell_type": "code",
   "execution_count": null,
   "metadata": {
    "id": "Ya5nEuMELeq8"
   },
   "outputs": [],
   "source": [
    "# Inference should use the config with parameters that are used in training\n",
    "# cfg now already contains everything we've set previously. We changed it a little bit for inference:\n",
    "\n",
    "\n",
    "cfg.MODEL.WEIGHTS = os.path.join(cfg.OUTPUT_DIR, \"/content/workDir/model_final.pth\")  # path to the model we just trained\n",
    "cfg.MODEL.ROI_HEADS.SCORE_THRESH_TEST = 0.7   # set a custom testing threshold\n",
    "predictor = DefaultPredictor(cfg)"
   ]
  },
  {
   "cell_type": "code",
   "execution_count": null,
   "metadata": {
    "id": "U5LhISJqWXgM"
   },
   "outputs": [],
   "source": [
    "#Evaluation is not working atm\n",
    "\n",
    "#from detectron2.utils.visualizer import ColorMode\n",
    "#dataset_dicts = get_detection_dataset_dicts(\"my_dataset_val\" )\n",
    "#for d in random.sample(dataset_dicts, 5):\n",
    "#    print(d[\"file_name\"])    \n",
    "#    im = cv2.imread(d[\"file_name\"])\n",
    "#    print(d[\"file_name\"], \"test\")\n",
    "#    outputs = predictor(im)  # format is documented at https://detectron2.readthedocs.io/tutorials/models.html#model-output-format\n",
    "#    v = Visualizer(im[:, :, ::-1],\n",
    "#                   scale=1, # og:0.5\n",
    "                   #instance_mode=ColorMode.IMAGE_BW   # remove the colors of unsegmented pixels. This option is only available for segmentation models\n",
    "#    )\n",
    "#    out = v.draw_instance_predictions(outputs[\"instances\"].to(\"cpu\"))\n",
    "#    cv2_imshow(out.get_image()[:, :, ::-1])"
   ]
  },
  {
   "cell_type": "markdown",
   "metadata": {
    "id": "ikIweXPONcQJ"
   },
   "source": [
    "Test for Images for visual confirmation of the model working:"
   ]
  },
  {
   "cell_type": "code",
   "execution_count": null,
   "metadata": {
    "colab": {
     "base_uri": "https://localhost:8080/"
    },
    "id": "ArbPCRxTo5Sd",
    "outputId": "9b51bd86-ade1-422c-9260-64f46ef42393"
   },
   "outputs": [],
   "source": [
    "import os\n",
    "import copy\n",
    "import json\n",
    "from detectron2.utils.visualizer import ColorMode\n",
    "\n",
    "cfg.MODEL.WEIGHTS = os.path.join(cfg.OUTPUT_DIR, \"/content/workDir/model_final.pth\")  # path to the model we just trained\n",
    "cfg.MODEL.ROI_HEADS.SCORE_THRESH_TEST = 0.5   # set a custom testing threshold\n",
    "predictor = DefaultPredictor(cfg)\n",
    "\n",
    "for i in range(44):\n",
    "  folder = str(i)\n",
    "  print(f\"folder: {folder}\")\n",
    "  if not os.path.exists(f\"/content/workDir/bilder_test/1/greenroof_output_{folder}.json\"):\n",
    "\n",
    "\n",
    "    #test_sample = os.scandir(\"/content/workDir/Test_Images/images/\")\n",
    "\n",
    "    test_sample = os.listdir(f\"/content/workDir/bilder_test/{folder}/\")\n",
    "    errorCount = 0\n",
    "\n",
    "    prediction_outputs = []\n",
    "    for ts in test_sample:\n",
    "      #print(ts)\n",
    "      try:\n",
    "        im = cv2.imread(os.path.join(f\"/content/workDir/bilder_test/{folder}/\", ts))\n",
    "\n",
    "        outputs= predictor(im)\n",
    "        # print(outputs['instances'].pred_masks)\n",
    "        if (len(outputs[\"instances\"].pred_masks) > 0):\n",
    "          print(f'{len(outputs[\"instances\"].pred_masks)} x {len(outputs[\"instances\"].pred_masks[0])} x {len(outputs[\"instances\"].pred_masks[0][0])}')\n",
    "          #print(sum(outputs[\"instances\"].pred_boxes.area()))\n",
    "          s = 0\n",
    "          # laufe durch alle gefundenen sachen\n",
    "          for index_of_prediction in range(len(outputs[\"instances\"].pred_masks)):\n",
    "            # wenn es gefundene klassen gibt nimm nur tensors mit mehr als x confidence\n",
    "            # möglicher weise nochmal ergänzen nach klasse filtern\n",
    "            prediction_mask = outputs[\"instances\"].pred_masks[index_of_prediction]\n",
    "            # print(sum(map(lambda b : b.area(),deepCopy[\"instances\"].pred_boxes[c])))\n",
    "            if outputs[\"instances\"].scores[index_of_prediction] > cfg.MODEL.ROI_HEADS.SCORE_THRESH_TEST and outputs[\"instances\"].pred_classes[index_of_prediction] == 0:\n",
    "              # print(deepCopy[\"instances\"].scores[index_of_prediction])\n",
    "              for rows_of_prediction in prediction_mask:\n",
    "                for prediction_value_at_pixel in rows_of_prediction:\n",
    "                  if prediction_value_at_pixel:\n",
    "                    s = s+1\n",
    "          # print size of prediction mask (in pixels i guess)\n",
    "         \n",
    "          print(f'{ts}: {s} px')\n",
    "          prediction_outputs.append({\"filename\": ts, \"greenroof_pixelcount\": s})\n",
    "      except Exception as e:\n",
    "        print(f'{type(e).__name__}: {e}')\n",
    "        errorCount += 1\n",
    "        # print(f'error with {ts}. passing on')\n",
    "        continue\n",
    "      #v = Visualizer(im[:, :, ::-1],\n",
    "      #                 scale=1, # og:0.5\n",
    "      #                 instance_mode=ColorMode.IMAGE_BW   # remove the colors of unsegmented pixels. This option is only available for segmentation models\n",
    "      #   )\n",
    "      #out = v.draw_instance_predictions(outputs[\"instances\"].to(\"cpu\"))\n",
    "      #cv2_imshow(out.get_image()[:, :, ::-1])\n",
    "\n",
    "    #print(outputs)\n",
    "    print(f'erros: {errorCount}')\n",
    "    with open(f\"/content/workDir/bilder_test/1/greenroof_output_{folder}.json\", \"w\") as output_file:\n",
    "      json.dump(prediction_outputs, output_file)"
   ]
  },
  {
   "cell_type": "code",
   "execution_count": null,
   "metadata": {
    "colab": {
     "base_uri": "https://localhost:8080/",
     "height": 819
    },
    "executionInfo": {
     "elapsed": 772,
     "status": "error",
     "timestamp": 1661885002242,
     "user": {
      "displayName": "Felix Krukenberg",
      "userId": "10245124757195406851"
     },
     "user_tz": -120
    },
    "id": "h9tECBQCvMv3",
    "outputId": "aaa3b6d2-e056-4f18-d7ae-9b6bb389e1c0"
   },
   "outputs": [],
   "source": [
    "from detectron2.evaluation import COCOEvaluator, inference_on_dataset\n",
    "from detectron2.data import build_detection_test_loader\n",
    "evaluator = COCOEvaluator(\"my_dataset_val\", output_dir=\"./output\")\n",
    "val_loader = build_detection_test_loader(cfg, \"my_dataset_val\")\n",
    "print(inference_on_dataset(predictor.model, val_loader, evaluator))\n",
    "# another equivalent way to evaluate the model is to use `trainer.test`"
   ]
  },
  {
   "cell_type": "code",
   "execution_count": null,
   "metadata": {
    "id": "eO9NmzlVBx6t"
   },
   "outputs": [],
   "source": [
    "cp -r /content/output /content/workDir/output\n",
    "\n"
   ]
  }
 ],
 "metadata": {
  "accelerator": "GPU",
  "colab": {
   "collapsed_sections": [
    "QHnVupBBn9eR",
    "vM54r6jlKTII",
    "tjbUIhSxUdm_",
    "wlqXIXXhW8dA"
   ],
   "provenance": [
    {
     "file_id": "https://github.com/meisterlix/Masterarbeit-Gruendaecher/blob/main/Code/detectron2_IR_roof_detection.ipynb",
     "timestamp": 1657270778426
    },
    {
     "file_id": "16jcaJoc6bCFAQ96jDe2HwtXj7BMD_-m5",
     "timestamp": 1642847194565
    }
   ]
  },
  "kernelspec": {
   "display_name": "Python 3 (ipykernel)",
   "language": "python",
   "name": "python3"
  },
  "language_info": {
   "codemirror_mode": {
    "name": "ipython",
    "version": 3
   },
   "file_extension": ".py",
   "mimetype": "text/x-python",
   "name": "python",
   "nbconvert_exporter": "python",
   "pygments_lexer": "ipython3",
   "version": "3.10.2"
  }
 },
 "nbformat": 4,
 "nbformat_minor": 1
}
